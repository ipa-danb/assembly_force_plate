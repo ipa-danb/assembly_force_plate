{
 "cells": [
  {
   "cell_type": "code",
   "execution_count": null,
   "id": "62c3fed0",
   "metadata": {},
   "outputs": [],
   "source": []
  },
  {
   "cell_type": "code",
   "execution_count": 5,
   "id": "813368f0",
   "metadata": {},
   "outputs": [],
   "source": [
    "from sklearn.mixture import BayesianGaussianMixture\n",
    "from fastdtw import fastdtw\n",
    "import numpy as np\n",
    "from rich import print\n",
    "import pandas as pd\n",
    "import holoviews as hv\n",
    "from functools import partial\n",
    "import glob\n"
   ]
  },
  {
   "cell_type": "code",
   "execution_count": 21,
   "id": "5dbda488",
   "metadata": {},
   "outputs": [],
   "source": [
    "def load_list():\n",
    "    files = glob.glob(\"Recording*.csv\")\n",
    "    print(f\"Loading {files}\")\n",
    "    recordings = [pd.read_csv(f) for f in files]\n",
    "    for r in recordings:\n",
    "        r[\"ts\"] = pd.to_datetime(r[\"ts\"], unit=\"s\")\n",
    "    return recordings\n",
    "\n",
    "def calc_angle_mags(ar: np.array):\n",
    "    Fxt = ar[0]\n",
    "    Fyt = ar[1]\n",
    "    Fzt = ar[2]\n",
    "    mag = np.sqrt(Fxt**2 + Fyt**2)\n",
    "    ang = (np.pi / 2.0) - np.arctan2(Fxt / mag, Fyt / mag)\n",
    "    return ang, mag\n",
    "\n",
    "\n",
    "def calc_x_y(F: np.array):\n",
    "    x1 = 0.38\n",
    "    x2 = 0.38  #  + 0.05\n",
    "    h = 0.01\n",
    "    # y = x1/2 * ( (F1z + F2z - F3z - F4z) + h*(F1y + F2y + F3y + F4y) ) / (F1z + F2z + F3z + F4z)\n",
    "    # x = x2/2 * ( (F1z - F2z - F3z + F4z) + h*(F1x + F2x + F3x + F4x) ) / (F1z + F2z + F3z + F4z)\n",
    "    # F.shape: [4,7] < SensorNo, <ts,x,y,z,mx,my,mz> >\n",
    "    ze = 2\n",
    "    Fxt, Fyt, Fzt = [np.sum(F[:, i]) for i in range(0, 3)]\n",
    "\n",
    "    # print(Fxt, Fyt, Fzt)\n",
    "\n",
    "    y = 1 / Fzt * (h * Fyt + x1 / 2 * (F[0:2, ze].sum() - F[2:, ze].sum()))\n",
    "    x = 1 / Fzt * (h * Fxt + (x2 / 2) * (F[0::3, ze].sum() - F[1:3, ze].sum()))\n",
    "    ang, mag = calc_angle_mags(np.array([Fxt, Fyt, Fzt]))\n",
    "\n",
    "    return np.array(\n",
    "        [\n",
    "            x + x2 / 2,\n",
    "            y + x1 / 2,\n",
    "            np.linalg.norm([Fxt, Fyt, Fzt]),\n",
    "            ang,\n",
    "            mag,\n",
    "            Fxt,\n",
    "            Fyt,\n",
    "            Fzt,\n",
    "        ]\n",
    "    )\n",
    "\n",
    "def cut_off_dfs(dfd: dict):\n",
    "    \"\"\"cuts off the dataframes in a dict to the shortest one\"\"\"\n",
    "    # TODO values need to be sorted\n",
    "    min_len = min([df.shape[0] for df in dfd.values()])\n",
    "    return {key: dfd[key][-min_len:, :] for key in dfd.keys()}\n",
    "\n",
    "\n",
    "def augment_data(data):\n",
    "    \"\"\"This seperates out one dataframe into several numpy arrays as dict according to the column 'name'\n",
    "    Also synchronizes the length by cutting longer dataframes\n",
    "\n",
    "    Args:\n",
    "        data (DataFrame): dataframe with column name\n",
    "\n",
    "    Returns:\n",
    "        dict: dict with numpy arrays\n",
    "    \"\"\"\n",
    "    names = data[\"name\"].unique()\n",
    "    DataFrameDict = {elem: pd.DataFrame() for elem in names}\n",
    "    for key in DataFrameDict.keys():\n",
    "        DataFrameDict[key] = data[[\"fx\", \"fy\", \"fz\"]][data.name == key].to_numpy()\n",
    "    DataFrameDict = cut_off_dfs(DataFrameDict)\n",
    "    dfk = np.stack(list(DataFrameDict.values()), axis=1)\n",
    "    return dfk\n"
   ]
  },
  {
   "cell_type": "code",
   "execution_count": 164,
   "id": "6210cd04",
   "metadata": {},
   "outputs": [],
   "source": [
    "def calc_angle_mags(ar: np.array):\n",
    "    Fxt = ar[0]\n",
    "    Fyt = ar[1]\n",
    "    Fzt = ar[2]\n",
    "    mag = np.sqrt(Fxt**2 + Fyt**2)\n",
    "    ang = (np.pi / 2.0) - np.arctan2(Fxt / mag, Fyt / mag)\n",
    "    return ang, mag\n"
   ]
  },
  {
   "cell_type": "code",
   "execution_count": 181,
   "id": "ec7b8e56",
   "metadata": {},
   "outputs": [],
   "source": [
    "def calc_x_y_array(F: np.array):\n",
    "    x1 = 0.38\n",
    "    x2 = 0.38  #  + 0.05\n",
    "    h = 0.01\n",
    "    # y = x1/2 * ( (F1z + F2z - F3z - F4z) + h*(F1y + F2y + F3y + F4y) ) / (F1z + F2z + F3z + F4z)\n",
    "    # x = x2/2 * ( (F1z - F2z - F3z + F4z) + h*(F1x + F2x + F3x + F4x) ) / (F1z + F2z + F3z + F4z)\n",
    "    # F.shape: [4,7] < SensorNo, <ts,x,y,z,mx,my,mz> >\n",
    "    ze = 2\n",
    "    F_sum = F.sum(axis=1)\n",
    "    Fxt = F_sum[:,0]\n",
    "    Fyt = F_sum[:,1]\n",
    "    Fzt = F_sum[:,2]\n",
    "    y_a = 1/Fzt * (h * Fyt + x1/2 * (F[:, 0:2,ze].sum(axis=1) - F[:, 2:,ze].sum(axis=1))) + x2/2\n",
    "    x_a = 1/Fzt * (h * Fxt + x2/2 * (F[:, 0::3,ze].sum(axis=1) - F[:,1:3,ze].sum(axis=1))) + x1/2\n",
    "    \n",
    "    Ft = np.linalg.norm([Fxt,Fyt,Fzt], axis=0)\n",
    "    ang, mag = calc_angle_mags(np.array([Fxt, Fyt, Fzt]))\n",
    "\n",
    "    return np.stack((x_a, y_a, Ft, ang, mag, Fxt, Fyt, Fzt),axis=-1)"
   ]
  },
  {
   "cell_type": "code",
   "execution_count": 182,
   "id": "b2c59443",
   "metadata": {},
   "outputs": [
    {
     "data": {
      "text/html": [
       "<pre style=\"white-space:pre;overflow-x:auto;line-height:normal;font-family:Menlo,'DejaVu Sans Mono',consolas,'Courier New',monospace\">Loading <span style=\"font-weight: bold\">[</span><span style=\"color: #008000; text-decoration-color: #008000\">'Recording_2.csv'</span>, <span style=\"color: #008000; text-decoration-color: #008000\">'Recording_1.csv'</span>, <span style=\"color: #008000; text-decoration-color: #008000\">'Recording_0.csv'</span><span style=\"font-weight: bold\">]</span>\n",
       "</pre>\n"
      ],
      "text/plain": [
       "Loading \u001b[1m[\u001b[0m\u001b[32m'Recording_2.csv'\u001b[0m, \u001b[32m'Recording_1.csv'\u001b[0m, \u001b[32m'Recording_0.csv'\u001b[0m\u001b[1m]\u001b[0m\n"
      ]
     },
     "metadata": {},
     "output_type": "display_data"
    }
   ],
   "source": [
    "recordings =load_list()"
   ]
  },
  {
   "cell_type": "code",
   "execution_count": 183,
   "id": "a61e6258",
   "metadata": {},
   "outputs": [],
   "source": [
    "combined = augment_data(recordings[0])"
   ]
  },
  {
   "cell_type": "code",
   "execution_count": 187,
   "id": "2c6ebe65",
   "metadata": {},
   "outputs": [],
   "source": [
    "F = combined.sum(axis=1)"
   ]
  },
  {
   "cell_type": "code",
   "execution_count": 188,
   "id": "6b1315c8",
   "metadata": {},
   "outputs": [],
   "source": [
    "x1 = 0.38\n",
    "x2 = 0.38  #  + 0.05\n",
    "h = 0.01"
   ]
  },
  {
   "cell_type": "code",
   "execution_count": 189,
   "id": "ae41621a",
   "metadata": {},
   "outputs": [],
   "source": [
    "Fxt = F[:,0]\n",
    "Fyt = F[:,1]\n",
    "Fzt = F[:,2]"
   ]
  },
  {
   "cell_type": "code",
   "execution_count": 190,
   "id": "9f4f1144",
   "metadata": {},
   "outputs": [
    {
     "data": {
      "text/plain": [
       "(415,)"
      ]
     },
     "execution_count": 190,
     "metadata": {},
     "output_type": "execute_result"
    }
   ],
   "source": [
    "Fxt.shape"
   ]
  },
  {
   "cell_type": "code",
   "execution_count": 191,
   "id": "ed7b365a",
   "metadata": {},
   "outputs": [
    {
     "data": {
      "text/plain": [
       "(415, 4, 3)"
      ]
     },
     "execution_count": 191,
     "metadata": {},
     "output_type": "execute_result"
    }
   ],
   "source": [
    "combined.shape"
   ]
  },
  {
   "cell_type": "code",
   "execution_count": 192,
   "id": "164e4646",
   "metadata": {},
   "outputs": [],
   "source": [
    "xyf_a = calc_x_y_array(combined)"
   ]
  },
  {
   "cell_type": "code",
   "execution_count": 194,
   "id": "414c8816",
   "metadata": {},
   "outputs": [
    {
     "data": {
      "text/plain": [
       "(415, 8)"
      ]
     },
     "execution_count": 194,
     "metadata": {},
     "output_type": "execute_result"
    }
   ],
   "source": [
    "xyf_a.shape"
   ]
  },
  {
   "cell_type": "code",
   "execution_count": 161,
   "id": "c045783f",
   "metadata": {},
   "outputs": [
    {
     "name": "stdout",
     "output_type": "stream",
     "text": [
      "14.3 ms ± 745 µs per loop (mean ± std. dev. of 7 runs, 100 loops each)\n"
     ]
    }
   ],
   "source": [
    "%%timeit\n",
    "xyf = np.array([calc_x_y(dff) for dff in combined])"
   ]
  },
  {
   "cell_type": "code",
   "execution_count": 162,
   "id": "b35f9c61",
   "metadata": {},
   "outputs": [
    {
     "name": "stdout",
     "output_type": "stream",
     "text": [
      "111 µs ± 5.91 µs per loop (mean ± std. dev. of 7 runs, 10,000 loops each)\n"
     ]
    }
   ],
   "source": [
    "%%timeit\n",
    "xyf_a = calc_x_y_array(combined)"
   ]
  },
  {
   "cell_type": "code",
   "execution_count": 119,
   "id": "9674f37e",
   "metadata": {},
   "outputs": [],
   "source": [
    "y_a = 1/Fzt * (h * Fyt + x1/2 * (combined[:, 0:2,2].sum(axis=1) - combined[:, 2:,2].sum(axis=1))) + x2/2"
   ]
  },
  {
   "cell_type": "code",
   "execution_count": 120,
   "id": "33339abb",
   "metadata": {},
   "outputs": [],
   "source": [
    "x_a = 1/Fzt * (h * Fxt + x2/2 * (combined[:, 0::3,2].sum(axis=1) - combined[:,1:3,2].sum(axis=1))) + x1/2"
   ]
  },
  {
   "cell_type": "code",
   "execution_count": 121,
   "id": "b2c9b00a",
   "metadata": {},
   "outputs": [
    {
     "data": {
      "text/plain": [
       "(0.21081411454920373, 0.21351246250127753)"
      ]
     },
     "execution_count": 121,
     "metadata": {},
     "output_type": "execute_result"
    }
   ],
   "source": [
    "x_a[0], y_a[0]"
   ]
  },
  {
   "cell_type": "code",
   "execution_count": 195,
   "id": "823eefd3",
   "metadata": {},
   "outputs": [],
   "source": [
    "####"
   ]
  },
  {
   "cell_type": "code",
   "execution_count": 258,
   "id": "95bc9ba4",
   "metadata": {},
   "outputs": [
    {
     "data": {
      "text/plain": [
       "(1041, 7)"
      ]
     },
     "execution_count": 258,
     "metadata": {},
     "output_type": "execute_result"
    }
   ],
   "source": [
    "add_index(x_n).shape"
   ]
  },
  {
   "cell_type": "code",
   "execution_count": 259,
   "id": "0783ba7a",
   "metadata": {},
   "outputs": [
    {
     "data": {
      "text/plain": [
       "(1041, 6)"
      ]
     },
     "execution_count": 259,
     "metadata": {},
     "output_type": "execute_result"
    }
   ],
   "source": [
    "x_n.shape"
   ]
  },
  {
   "cell_type": "code",
   "execution_count": 256,
   "id": "44e081ae",
   "metadata": {},
   "outputs": [],
   "source": [
    "def add_index(a:np.array):\n",
    "    ra = np.concatenate(\n",
    "            (\n",
    "                np.array([range(0,a.shape[0])]).T,\n",
    "                a\n",
    "            ),\n",
    "            axis=1,\n",
    "        )\n",
    "    return ra"
   ]
  },
  {
   "cell_type": "code",
   "execution_count": 247,
   "id": "1384dd39",
   "metadata": {},
   "outputs": [],
   "source": [
    "from scipy.spatial.distance import euclidean\n",
    "\n",
    "def align_two_arrays(x, y, start_column=0, add_index=False):\n",
    "    distance, path = fastdtw(x[:, start_column:], y[:, start_column:], dist=euclidean)\n",
    "    new_x_1 = np.array([p[0] for p in path])\n",
    "    new_x_2 = np.array([p[1] for p in path])\n",
    "    if add_index:\n",
    "        a = np.concatenate(\n",
    "            (\n",
    "                np.array([range(0, x[:, start_column:][new_x_1].shape[0])]).T,\n",
    "                x[:, start_column:][new_x_1],\n",
    "            ),\n",
    "            axis=1,\n",
    "        )\n",
    "        b = np.concatenate(\n",
    "            (\n",
    "                np.array([range(0, y[:, start_column:][new_x_2].shape[0])]).T,\n",
    "                y[:, start_column:][new_x_2],\n",
    "            ),\n",
    "            axis=1,\n",
    "        )\n",
    "    else:\n",
    "        a = x[:, start_column:][new_x_1]\n",
    "        b = y[:, start_column:][new_x_2]\n",
    "\n",
    "    return a, b\n"
   ]
  },
  {
   "cell_type": "code",
   "execution_count": 234,
   "id": "36cad44f",
   "metadata": {},
   "outputs": [],
   "source": [
    "frame_list = recordings"
   ]
  },
  {
   "cell_type": "code",
   "execution_count": 235,
   "id": "7c1e5785",
   "metadata": {},
   "outputs": [],
   "source": [
    "dats_list = [calc_x_y_array(augment_data(frame)) for frame in frame_list]"
   ]
  },
  {
   "cell_type": "code",
   "execution_count": 241,
   "id": "595d38dd",
   "metadata": {},
   "outputs": [],
   "source": [
    "x_n, y_n = align_two_arrays(dats_list[0][:,[0,1,2,5,6,7]], dats_list[1][:,[0,1,2,5,6,7]])"
   ]
  },
  {
   "cell_type": "code",
   "execution_count": 244,
   "id": "d4df1cb3",
   "metadata": {},
   "outputs": [
    {
     "data": {
      "text/plain": [
       "((1041, 6), (1041, 6), (415, 6), (1026, 6))"
      ]
     },
     "execution_count": 244,
     "metadata": {},
     "output_type": "execute_result"
    }
   ],
   "source": [
    "x_n.shape, y_n.shape, dats_list[0][:,[0,1,2,5,6,7]].shape,  dats_list[1][:,[0,1,2,5,6,7]].shape"
   ]
  },
  {
   "cell_type": "code",
   "execution_count": 330,
   "id": "d5962f3e",
   "metadata": {},
   "outputs": [
    {
     "data": {
      "text/plain": [
       "3"
      ]
     },
     "execution_count": 330,
     "metadata": {},
     "output_type": "execute_result"
    }
   ],
   "source": [
    "len(recordings)"
   ]
  },
  {
   "cell_type": "code",
   "execution_count": 366,
   "id": "7d8521f1",
   "metadata": {},
   "outputs": [],
   "source": [
    "# np.stack((x_a, y_a, Ft, ang, mag, Fxt, Fyt, Fzt),axis=-1)\n",
    "\n",
    "def calculate_dpgmm(frame_list, regress_columns=[0,1,2,5,6,7]):\n",
    "    print(\"in DPGMM\")\n",
    "    # extract the dataframes for all 4 measurements, but for\n",
    "\n",
    "    dats_list = [calc_x_y_array(augment_data(frame)) for frame in frame_list]\n",
    "\n",
    "    dat_aligned = []\n",
    "    x_n, y_n = align_two_arrays(dats_list[0][:,regress_columns], dats_list[1][:,regress_columns], add_index=False)\n",
    "    dat_aligned.append(x_n)\n",
    "    if len(dats_list) > 2:\n",
    "        for el in dats_list[1:]:\n",
    "            _, y_n = align_two_arrays(x_n, el[:,regress_columns], add_index=False)\n",
    "            dat_aligned.append(y_n)\n",
    "\n",
    "    print(dat_aligned[0].shape)\n",
    "    for i, dats in enumerate(dat_aligned):\n",
    "        dat_aligned[i] = add_index(dats)\n",
    "    print(dat_aligned[0].shape)\n",
    "    dats = np.vstack(dat_aligned)\n",
    "    alder = BayesianGaussianMixture(\n",
    "        n_components=10,\n",
    "        covariance_type=\"full\",\n",
    "        weight_concentration_prior_type=\"dirichlet_distribution\",\n",
    "    ).fit(dats)\n",
    "    selector, counts = np.unique(alder.predict(dats), return_counts=True)\n",
    "    mask = 100*counts/dats.shape[0] < (100/10)/2\n",
    "    \n",
    "    print(selector[~mask])\n",
    "    print(alder.means_.shape, alder.means_[selector].shape)\n",
    "    print(alder.covariances_.shape, alder.covariances_[selector].shape)\n",
    "    return alder.means_[selector], alder.covariances_[selector], dats\n"
   ]
  },
  {
   "cell_type": "code",
   "execution_count": 367,
   "id": "d5aa196c",
   "metadata": {},
   "outputs": [
    {
     "data": {
      "text/html": [
       "<pre style=\"white-space:pre;overflow-x:auto;line-height:normal;font-family:Menlo,'DejaVu Sans Mono',consolas,'Courier New',monospace\">in DPGMM\n",
       "</pre>\n"
      ],
      "text/plain": [
       "in DPGMM\n"
      ]
     },
     "metadata": {},
     "output_type": "display_data"
    },
    {
     "data": {
      "text/html": [
       "<pre style=\"white-space:pre;overflow-x:auto;line-height:normal;font-family:Menlo,'DejaVu Sans Mono',consolas,'Courier New',monospace\"><span style=\"font-weight: bold\">(</span><span style=\"color: #008080; text-decoration-color: #008080; font-weight: bold\">1041</span>, <span style=\"color: #008080; text-decoration-color: #008080; font-weight: bold\">6</span><span style=\"font-weight: bold\">)</span>\n",
       "</pre>\n"
      ],
      "text/plain": [
       "\u001b[1m(\u001b[0m\u001b[1;36m1041\u001b[0m, \u001b[1;36m6\u001b[0m\u001b[1m)\u001b[0m\n"
      ]
     },
     "metadata": {},
     "output_type": "display_data"
    },
    {
     "data": {
      "text/html": [
       "<pre style=\"white-space:pre;overflow-x:auto;line-height:normal;font-family:Menlo,'DejaVu Sans Mono',consolas,'Courier New',monospace\"><span style=\"font-weight: bold\">(</span><span style=\"color: #008080; text-decoration-color: #008080; font-weight: bold\">1041</span>, <span style=\"color: #008080; text-decoration-color: #008080; font-weight: bold\">7</span><span style=\"font-weight: bold\">)</span>\n",
       "</pre>\n"
      ],
      "text/plain": [
       "\u001b[1m(\u001b[0m\u001b[1;36m1041\u001b[0m, \u001b[1;36m7\u001b[0m\u001b[1m)\u001b[0m\n"
      ]
     },
     "metadata": {},
     "output_type": "display_data"
    },
    {
     "name": "stderr",
     "output_type": "stream",
     "text": [
      "/home/danb/.local/lib/python3.8/site-packages/sklearn/mixture/_base.py:274: ConvergenceWarning: Initialization 1 did not converge. Try different init parameters, or increase max_iter, tol or check for degenerate data.\n",
      "  warnings.warn(\n"
     ]
    },
    {
     "data": {
      "text/html": [
       "<pre style=\"white-space:pre;overflow-x:auto;line-height:normal;font-family:Menlo,'DejaVu Sans Mono',consolas,'Courier New',monospace\"><span style=\"font-weight: bold\">[</span><span style=\"color: #008080; text-decoration-color: #008080; font-weight: bold\">0</span> <span style=\"color: #008080; text-decoration-color: #008080; font-weight: bold\">1</span> <span style=\"color: #008080; text-decoration-color: #008080; font-weight: bold\">2</span> <span style=\"color: #008080; text-decoration-color: #008080; font-weight: bold\">3</span> <span style=\"color: #008080; text-decoration-color: #008080; font-weight: bold\">4</span> <span style=\"color: #008080; text-decoration-color: #008080; font-weight: bold\">5</span> <span style=\"color: #008080; text-decoration-color: #008080; font-weight: bold\">8</span><span style=\"font-weight: bold\">]</span>\n",
       "</pre>\n"
      ],
      "text/plain": [
       "\u001b[1m[\u001b[0m\u001b[1;36m0\u001b[0m \u001b[1;36m1\u001b[0m \u001b[1;36m2\u001b[0m \u001b[1;36m3\u001b[0m \u001b[1;36m4\u001b[0m \u001b[1;36m5\u001b[0m \u001b[1;36m8\u001b[0m\u001b[1m]\u001b[0m\n"
      ]
     },
     "metadata": {},
     "output_type": "display_data"
    },
    {
     "data": {
      "text/html": [
       "<pre style=\"white-space:pre;overflow-x:auto;line-height:normal;font-family:Menlo,'DejaVu Sans Mono',consolas,'Courier New',monospace\"><span style=\"font-weight: bold\">(</span><span style=\"color: #008080; text-decoration-color: #008080; font-weight: bold\">10</span>, <span style=\"color: #008080; text-decoration-color: #008080; font-weight: bold\">7</span><span style=\"font-weight: bold\">)</span>\n",
       "<span style=\"font-weight: bold\">(</span><span style=\"color: #008080; text-decoration-color: #008080; font-weight: bold\">10</span>, <span style=\"color: #008080; text-decoration-color: #008080; font-weight: bold\">7</span><span style=\"font-weight: bold\">)</span>\n",
       "</pre>\n"
      ],
      "text/plain": [
       "\u001b[1m(\u001b[0m\u001b[1;36m10\u001b[0m, \u001b[1;36m7\u001b[0m\u001b[1m)\u001b[0m\n",
       "\u001b[1m(\u001b[0m\u001b[1;36m10\u001b[0m, \u001b[1;36m7\u001b[0m\u001b[1m)\u001b[0m\n"
      ]
     },
     "metadata": {},
     "output_type": "display_data"
    },
    {
     "data": {
      "text/html": [
       "<pre style=\"white-space:pre;overflow-x:auto;line-height:normal;font-family:Menlo,'DejaVu Sans Mono',consolas,'Courier New',monospace\"><span style=\"font-weight: bold\">(</span><span style=\"color: #008080; text-decoration-color: #008080; font-weight: bold\">10</span>, <span style=\"color: #008080; text-decoration-color: #008080; font-weight: bold\">7</span>, <span style=\"color: #008080; text-decoration-color: #008080; font-weight: bold\">7</span><span style=\"font-weight: bold\">)</span>\n",
       "<span style=\"font-weight: bold\">(</span><span style=\"color: #008080; text-decoration-color: #008080; font-weight: bold\">10</span>, <span style=\"color: #008080; text-decoration-color: #008080; font-weight: bold\">7</span>, <span style=\"color: #008080; text-decoration-color: #008080; font-weight: bold\">7</span><span style=\"font-weight: bold\">)</span>\n",
       "</pre>\n"
      ],
      "text/plain": [
       "\u001b[1m(\u001b[0m\u001b[1;36m10\u001b[0m, \u001b[1;36m7\u001b[0m, \u001b[1;36m7\u001b[0m\u001b[1m)\u001b[0m\n",
       "\u001b[1m(\u001b[0m\u001b[1;36m10\u001b[0m, \u001b[1;36m7\u001b[0m, \u001b[1;36m7\u001b[0m\u001b[1m)\u001b[0m\n"
      ]
     },
     "metadata": {},
     "output_type": "display_data"
    }
   ],
   "source": [
    "reval = calculate_dpgmm(recordings)"
   ]
  },
  {
   "cell_type": "code",
   "execution_count": 340,
   "id": "72d8912a",
   "metadata": {},
   "outputs": [
    {
     "data": {
      "text/plain": [
       "(10,)"
      ]
     },
     "execution_count": 340,
     "metadata": {},
     "output_type": "execute_result"
    }
   ],
   "source": [
    "reval[0][:,2].shape"
   ]
  },
  {
   "cell_type": "code",
   "execution_count": 333,
   "id": "c6679733",
   "metadata": {},
   "outputs": [
    {
     "data": {
      "text/plain": [
       "[<matplotlib.lines.Line2D at 0x7f24e6a21430>]"
      ]
     },
     "execution_count": 333,
     "metadata": {},
     "output_type": "execute_result"
    },
    {
     "data": {
      "image/png": "[encoded data removed]",
      "text/plain": [
       "<Figure size 640x480 with 1 Axes>"
      ]
     },
     "metadata": {},
     "output_type": "display_data"
    }
   ],
   "source": [
    "plt.plot(reval[2][:,0])"
   ]
  },
  {
   "cell_type": "code",
   "execution_count": 326,
   "id": "c475d56a",
   "metadata": {},
   "outputs": [
    {
     "data": {
      "text/plain": [
       "(2089, 7)"
      ]
     },
     "execution_count": 326,
     "metadata": {},
     "output_type": "execute_result"
    }
   ],
   "source": [
    "reval[2].shape"
   ]
  },
  {
   "cell_type": "code",
   "execution_count": 342,
   "id": "5529dce2",
   "metadata": {},
   "outputs": [
    {
     "data": {
      "text/plain": [
       "array([401.25290972, 669.8802407 , 158.96741383, 477.78307231,\n",
       "       977.77518369, 680.89986589,  73.64974767, 862.84853376,\n",
       "       259.57579134, 889.22800546])"
      ]
     },
     "execution_count": 342,
     "metadata": {},
     "output_type": "execute_result"
    }
   ],
   "source": [
    "reval[0][:,0]"
   ]
  },
  {
   "cell_type": "code",
   "execution_count": 343,
   "id": "b4d7a6e6",
   "metadata": {},
   "outputs": [
    {
     "data": {
      "text/plain": [
       "<matplotlib.collections.PathCollection at 0x7f24e4a5c970>"
      ]
     },
     "execution_count": 343,
     "metadata": {},
     "output_type": "execute_result"
    },
    {
     "data": {
      "image/png": "[encoded data removed]",
      "text/plain": [
       "<Figure size 640x480 with 1 Axes>"
      ]
     },
     "metadata": {},
     "output_type": "display_data"
    }
   ],
   "source": [
    "plot_element = 2\n",
    "\n",
    "import matplotlib.pyplot as plt\n",
    "fig, axes = plt.subplots(1)\n",
    "axes.scatter(reval[2][:,0],reval[2][:,2])\n",
    "axes.scatter(reval[0][:,0],reval[0][:,2], color='red')"
   ]
  },
  {
   "cell_type": "code",
   "execution_count": 276,
   "id": "f7d69325",
   "metadata": {},
   "outputs": [],
   "source": [
    "dats_list = [calc_x_y_array(augment_data(frame)) for frame in frame_list]\n"
   ]
  },
  {
   "cell_type": "code",
   "execution_count": 286,
   "id": "b57c8080",
   "metadata": {},
   "outputs": [],
   "source": [
    "pd_list = [pd.DataFrame(e, columns=[\"x_a\", \"y_a\", \"Ft\", \"ang\", \"mag\", \"Fxt\", \"Fyt\", \"Fzt\"]) for e in dats_list]"
   ]
  },
  {
   "cell_type": "code",
   "execution_count": 303,
   "id": "63070cf8",
   "metadata": {},
   "outputs": [
    {
     "data": {
      "image/png": "[encoded data removed]",
      "text/plain": [
       "<Figure size 640x480 with 1 Axes>"
      ]
     },
     "metadata": {},
     "output_type": "display_data"
    }
   ],
   "source": [
    "import matplotlib.pyplot as plt\n",
    "fig, axes = plt.subplots(1)\n",
    "for p in pd_list:\n",
    "    p.plot(ax = axes,y = ['x_a','y_a','Ft'])"
   ]
  },
  {
   "cell_type": "code",
   "execution_count": 301,
   "id": "118d67c0",
   "metadata": {},
   "outputs": [
    {
     "name": "stderr",
     "output_type": "stream",
     "text": [
      "/tmp/ipykernel_1264916/89474557.py:1: UserWarning: Matplotlib is currently using module://matplotlib_inline.backend_inline, which is a non-GUI backend, so cannot show the figure.\n",
      "  fig.show()\n"
     ]
    }
   ],
   "source": [
    "fig.show()"
   ]
  },
  {
   "cell_type": "code",
   "execution_count": 345,
   "id": "95019c67",
   "metadata": {},
   "outputs": [
    {
     "data": {
      "text/plain": [
       "(10, 7)"
      ]
     },
     "execution_count": 345,
     "metadata": {},
     "output_type": "execute_result"
    }
   ],
   "source": [
    "reval[0].shape"
   ]
  },
  {
   "cell_type": "code",
   "execution_count": 346,
   "id": "0bd96748",
   "metadata": {},
   "outputs": [],
   "source": [
    "ms = reval[0]"
   ]
  },
  {
   "cell_type": "code",
   "execution_count": 350,
   "id": "b7b504ab",
   "metadata": {},
   "outputs": [
    {
     "data": {
      "text/plain": [
       "array([[0.21009911, 0.20899859],\n",
       "       [0.21396785, 0.21235379]])"
      ]
     },
     "execution_count": 350,
     "metadata": {},
     "output_type": "execute_result"
    }
   ],
   "source": [
    "ms[[5,6],1:3]"
   ]
  },
  {
   "cell_type": "code",
   "execution_count": 351,
   "id": "338b00ba",
   "metadata": {},
   "outputs": [
    {
     "data": {
      "text/plain": [
       "array([[0.21009911, 0.20899859],\n",
       "       [0.21396785, 0.21235379]])"
      ]
     },
     "execution_count": 351,
     "metadata": {},
     "output_type": "execute_result"
    }
   ],
   "source": [
    "ms[5:7, 1:3]"
   ]
  },
  {
   "cell_type": "code",
   "execution_count": 1,
   "id": "5110a3c4",
   "metadata": {},
   "outputs": [],
   "source": [
    "import yaml"
   ]
  },
  {
   "cell_type": "code",
   "execution_count": 2,
   "id": "5a22048b",
   "metadata": {},
   "outputs": [],
   "source": [
    "a = {\"a\": 1}\n",
    "b = {\"b\": 2}\n",
    "\n",
    "a.update(b)"
   ]
  },
  {
   "cell_type": "code",
   "execution_count": 3,
   "id": "6dfeeccb",
   "metadata": {},
   "outputs": [
    {
     "data": {
      "text/plain": [
       "{'a': 1, 'b': 2}"
      ]
     },
     "execution_count": 3,
     "metadata": {},
     "output_type": "execute_result"
    }
   ],
   "source": [
    "a"
   ]
  },
  {
   "cell_type": "code",
   "execution_count": 7,
   "id": "00990043",
   "metadata": {},
   "outputs": [],
   "source": [
    "from rich import print"
   ]
  },
  {
   "cell_type": "code",
   "execution_count": 13,
   "id": "01efcb18",
   "metadata": {},
   "outputs": [],
   "source": [
    "def build_single_frame_dict(name:str, pl:list, ol:list,parent:str):\n",
    "    o = {\"orientation\": {k:v for k,v in zip('wxyz',ol)}}\n",
    "    s = {\"parent\":parent, \"style\": \"none\"}\n",
    "    p = {\"position\": {k:v for k,v in zip('xyz',pl)}}\n",
    "    dg = {name: {**o, **s, **p}}\n",
    "    return dg\n",
    "\n",
    "\n",
    "names = [\"box_rotated\", \"cable_align_left_down\"]\n",
    "\n",
    "fd = {\"frames\":[build_single_frame_dict(n,[0,0,0],[0,0,0,0],'test') for n in names]}\n"
   ]
  },
  {
   "cell_type": "code",
   "execution_count": 14,
   "id": "8141fea8",
   "metadata": {},
   "outputs": [
    {
     "data": {
      "text/html": [
       "<pre style=\"white-space:pre;overflow-x:auto;line-height:normal;font-family:Menlo,'DejaVu Sans Mono',consolas,'Courier New',monospace\">frames:\n",
       "- box_rotated:\n",
       "    orientation:\n",
       "      w: <span style=\"color: #008080; text-decoration-color: #008080; font-weight: bold\">0</span>\n",
       "      x: <span style=\"color: #008080; text-decoration-color: #008080; font-weight: bold\">0</span>\n",
       "      y: <span style=\"color: #008080; text-decoration-color: #008080; font-weight: bold\">0</span>\n",
       "      z: <span style=\"color: #008080; text-decoration-color: #008080; font-weight: bold\">0</span>\n",
       "    parent: test\n",
       "    position:\n",
       "      x: <span style=\"color: #008080; text-decoration-color: #008080; font-weight: bold\">0</span>\n",
       "      y: <span style=\"color: #008080; text-decoration-color: #008080; font-weight: bold\">0</span>\n",
       "      z: <span style=\"color: #008080; text-decoration-color: #008080; font-weight: bold\">0</span>\n",
       "    style: none\n",
       "- cable_align_left_down:\n",
       "    orientation:\n",
       "      w: <span style=\"color: #008080; text-decoration-color: #008080; font-weight: bold\">0</span>\n",
       "      x: <span style=\"color: #008080; text-decoration-color: #008080; font-weight: bold\">0</span>\n",
       "      y: <span style=\"color: #008080; text-decoration-color: #008080; font-weight: bold\">0</span>\n",
       "      z: <span style=\"color: #008080; text-decoration-color: #008080; font-weight: bold\">0</span>\n",
       "    parent: test\n",
       "    position:\n",
       "      x: <span style=\"color: #008080; text-decoration-color: #008080; font-weight: bold\">0</span>\n",
       "      y: <span style=\"color: #008080; text-decoration-color: #008080; font-weight: bold\">0</span>\n",
       "      z: <span style=\"color: #008080; text-decoration-color: #008080; font-weight: bold\">0</span>\n",
       "    style: none\n",
       "\n",
       "</pre>\n"
      ],
      "text/plain": [
       "frames:\n",
       "- box_rotated:\n",
       "    orientation:\n",
       "      w: \u001b[1;36m0\u001b[0m\n",
       "      x: \u001b[1;36m0\u001b[0m\n",
       "      y: \u001b[1;36m0\u001b[0m\n",
       "      z: \u001b[1;36m0\u001b[0m\n",
       "    parent: test\n",
       "    position:\n",
       "      x: \u001b[1;36m0\u001b[0m\n",
       "      y: \u001b[1;36m0\u001b[0m\n",
       "      z: \u001b[1;36m0\u001b[0m\n",
       "    style: none\n",
       "- cable_align_left_down:\n",
       "    orientation:\n",
       "      w: \u001b[1;36m0\u001b[0m\n",
       "      x: \u001b[1;36m0\u001b[0m\n",
       "      y: \u001b[1;36m0\u001b[0m\n",
       "      z: \u001b[1;36m0\u001b[0m\n",
       "    parent: test\n",
       "    position:\n",
       "      x: \u001b[1;36m0\u001b[0m\n",
       "      y: \u001b[1;36m0\u001b[0m\n",
       "      z: \u001b[1;36m0\u001b[0m\n",
       "    style: none\n",
       "\n"
      ]
     },
     "metadata": {},
     "output_type": "display_data"
    }
   ],
   "source": [
    "print(yaml.dump(fd))"
   ]
  },
  {
   "cell_type": "code",
   "execution_count": null,
   "id": "9f96a4c6",
   "metadata": {},
   "outputs": [],
   "source": []
  }
 ],
 "metadata": {
  "kernelspec": {
   "display_name": "Python 3 (ipykernel)",
   "language": "python",
   "name": "python3"
  },
  "language_info": {
   "codemirror_mode": {
    "name": "ipython",
    "version": 3
   },
   "file_extension": ".py",
   "mimetype": "text/x-python",
   "name": "python",
   "nbconvert_exporter": "python",
   "pygments_lexer": "ipython3",
   "version": "3.8.10"
  }
 },
 "nbformat": 4,
 "nbformat_minor": 5
}
